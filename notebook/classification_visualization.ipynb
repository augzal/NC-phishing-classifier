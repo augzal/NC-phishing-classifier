{
 "cells": [
  {
   "cell_type": "markdown",
   "id": "29b793f7-911e-4e8e-b13c-30dc22566b61",
   "metadata": {},
   "source": [
    "# Prediction investigation\n",
    "To investigate why model predicts a certain class, we can look into the activations of the last convolutional layer. This might explain on which parts of the picture the model focuses and help us determine the reasoning for classification. Implementation is mostly based on Keras gradcam example (https://keras.io/examples/vision/grad_cam/). Highlighted regions (in red) are the regions that are most important for the final convolutional layer."
   ]
  },
  {
   "cell_type": "code",
   "execution_count": null,
   "id": "55c9e1ff-8210-4c04-bfc0-498c315aab98",
   "metadata": {},
   "outputs": [],
   "source": [
    "import os\n",
    "os.environ[\"KERAS_BACKEND\"] = \"tensorflow\"\n",
    "import numpy as np\n",
    "import tensorflow as tf\n",
    "import keras\n",
    "\n",
    "# Display\n",
    "from IPython.display import Image, display\n",
    "import matplotlib as mpl\n",
    "import matplotlib.pyplot as plt"
   ]
  },
  {
   "cell_type": "code",
   "execution_count": null,
   "id": "020943ce-99a8-4b09-aca7-773e7edb2f22",
   "metadata": {},
   "outputs": [],
   "source": [
    "model = keras.models.load_model('../model/efficientnetb0.keras')"
   ]
  },
  {
   "cell_type": "code",
   "execution_count": null,
   "id": "3e3cf4a6-2c67-469a-971d-3f707f9d7de6",
   "metadata": {},
   "outputs": [],
   "source": [
    "img_size = (256, 256)\n",
    "last_conv_layer_name = \"top_activation\"\n",
    "labels = [\n",
    "            \"Facebook, Inc.\",\n",
    "            \"Microsoft\",\n",
    "            \"Microsoft OneDrive\",\n",
    "            \"Orange\",\n",
    "            \"Spotify\",\n",
    "            \"Steam\",\n",
    "            \"UPS\",\n",
    "            \"Vodafone\",\n",
    "            \"Wells Fargo & Company\",\n",
    "            \"others\",\n",
    "        ]"
   ]
  },
  {
   "cell_type": "code",
   "execution_count": null,
   "id": "34a7402f-3fe5-454d-8cdd-270b290a3764",
   "metadata": {},
   "outputs": [],
   "source": [
    "def make_gradcam_heatmap(img_array, model, last_conv_layer_name, pred_index=None):\n",
    "    # First, we create a model that maps the input image to the activations\n",
    "    # of the last conv layer as well as the output predictions\n",
    "    grad_model = keras.models.Model(\n",
    "        model.inputs, [model.get_layer(last_conv_layer_name).output, model.output]\n",
    "    )\n",
    "\n",
    "    # Then, we compute the gradient of the top predicted class for our input image\n",
    "    # with respect to the activations of the last conv layer\n",
    "    with tf.GradientTape() as tape:\n",
    "        last_conv_layer_output, preds = grad_model(img_array)\n",
    "        if pred_index is None:\n",
    "            pred_index = tf.argmax(preds[0])\n",
    "        class_channel = preds[:, pred_index]\n",
    "\n",
    "    # This is the gradient of the output neuron (top predicted or chosen)\n",
    "    # with regard to the output feature map of the last conv layer\n",
    "    grads = tape.gradient(class_channel, last_conv_layer_output)\n",
    "\n",
    "    # This is a vector where each entry is the mean intensity of the gradient\n",
    "    # over a specific feature map channel\n",
    "    pooled_grads = tf.reduce_mean(grads, axis=(0, 1, 2))\n",
    "\n",
    "    # We multiply each channel in the feature map array\n",
    "    # by \"how important this channel is\" with regard to the top predicted class\n",
    "    # then sum all the channels to obtain the heatmap class activation\n",
    "    last_conv_layer_output = last_conv_layer_output[0]\n",
    "    heatmap = last_conv_layer_output @ pooled_grads[..., tf.newaxis]\n",
    "    heatmap = tf.squeeze(heatmap)\n",
    "\n",
    "    # For visualization purpose, we will also normalize the heatmap between 0 & 1\n",
    "    heatmap = tf.maximum(heatmap, 0) / tf.math.reduce_max(heatmap)\n",
    "    return heatmap.numpy()\n"
   ]
  },
  {
   "cell_type": "code",
   "execution_count": null,
   "id": "661d877e-724e-4fe0-8c3f-2339371795e9",
   "metadata": {},
   "outputs": [],
   "source": [
    "\n",
    "def get_gradcam_img(img, heatmap, alpha=0.4):\n",
    "    \n",
    "    # Rescale heatmap to a range 0-255\n",
    "    heatmap = np.uint8(255 * heatmap)\n",
    "\n",
    "    # Use jet colormap to colorize heatmap\n",
    "    jet = mpl.colormaps[\"jet\"]\n",
    "\n",
    "    # Use RGB values of the colormap\n",
    "    jet_colors = jet(np.arange(256))[:, :3]\n",
    "    jet_heatmap = jet_colors[heatmap]\n",
    "\n",
    "    # Create an image with RGB colorized heatmap\n",
    "    jet_heatmap = keras.utils.array_to_img(jet_heatmap)\n",
    "    jet_heatmap = jet_heatmap.resize((img.shape[1], img.shape[0]))\n",
    "    jet_heatmap = keras.utils.img_to_array(jet_heatmap)\n",
    "\n",
    "    # Superimpose the heatmap on original image\n",
    "    superimposed_img = jet_heatmap * alpha + img\n",
    "    superimposed_img = keras.utils.array_to_img(superimposed_img)\n",
    "\n",
    "    # Display Grad CAM\n",
    "    return superimposed_img\n",
    "\n",
    "def create_grad_cam_image(img_array, model, last_conv_layer_name):\n",
    "    \n",
    "    # Print what the top predicted class is\n",
    "    preds = model.predict(img_array)\n",
    "    \n",
    "    # Generate class activation heatmap\n",
    "    heatmap = make_gradcam_heatmap(img_array, model, last_conv_layer_name)\n",
    "\n",
    "    return get_gradcam_img(img_array[0], heatmap, alpha=0.4), labels[np.argmax(preds)]\n"
   ]
  },
  {
   "cell_type": "code",
   "execution_count": null,
   "id": "01521146-d39f-49f2-a198-b10341cdc39b",
   "metadata": {},
   "outputs": [],
   "source": [
    "img_shape = (256, 256, 3)\n",
    "train_ds, val_ds = keras.utils.image_dataset_from_directory(\n",
    "    directory='../data/train_data_dedup',\n",
    "    labels='inferred',\n",
    "    label_mode='categorical',\n",
    "    batch_size=8,\n",
    "    image_size=(img_shape[0], img_shape[1]),\n",
    "    shuffle=True,\n",
    "    validation_split=0.2,\n",
    "    seed=235,\n",
    "    subset=\"both\",)"
   ]
  },
  {
   "cell_type": "code",
   "execution_count": null,
   "id": "45a56ef9-f1ed-4b0a-a809-5dc4d8b43e3f",
   "metadata": {},
   "outputs": [],
   "source": [
    "for image, label in train_ds.take(1):\n",
    "    for i in range(image.shape[0]):\n",
    "        plt.figure(figsize=(20,20))\n",
    "        ax = plt.subplot(2, 4, i+1)\n",
    "        gc_img, pred_label = create_grad_cam_image(np.expand_dims(image[i], axis=0),  model, last_conv_layer_name)\n",
    "        plt.imshow(gc_img)\n",
    "        plt.title(\"Actual: {}, predicted: {}\".format(train_ds.class_names[np.argmax(label[i])], pred_label))\n",
    "        plt.axis(\"off\")"
   ]
  }
 ],
 "metadata": {
  "kernelspec": {
   "display_name": "Python 3 (ipykernel)",
   "language": "python",
   "name": "python3"
  },
  "language_info": {
   "codemirror_mode": {
    "name": "ipython",
    "version": 3
   },
   "file_extension": ".py",
   "mimetype": "text/x-python",
   "name": "python",
   "nbconvert_exporter": "python",
   "pygments_lexer": "ipython3",
   "version": "3.11.9"
  }
 },
 "nbformat": 4,
 "nbformat_minor": 5
}
